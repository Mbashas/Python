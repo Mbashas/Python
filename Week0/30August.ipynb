{
 "cells": [
  {
   "cell_type": "code",
   "execution_count": 1,
   "metadata": {},
   "outputs": [
    {
     "name": "stdout",
     "output_type": "stream",
     "text": [
      "<class 'int'>\n"
     ]
    }
   ],
   "source": [
    "a=31\n",
    "print(type(a))"
   ]
  },
  {
   "cell_type": "code",
   "execution_count": 2,
   "metadata": {},
   "outputs": [
    {
     "name": "stdout",
     "output_type": "stream",
     "text": [
      "<class 'float'>\n"
     ]
    }
   ],
   "source": [
    "b=0.90\n",
    "print(type(b))"
   ]
  },
  {
   "cell_type": "code",
   "execution_count": 3,
   "metadata": {},
   "outputs": [
    {
     "name": "stdout",
     "output_type": "stream",
     "text": [
      "31.9\n",
      "<class 'float'>\n",
      "30.1\n",
      "21.99001494154954\n",
      "34.0\n",
      "0.39999999999999925\n",
      "27.900000000000002\n",
      "34.44444444444444\n",
      "31.9\n"
     ]
    }
   ],
   "source": [
    "a=31.0\n",
    "b=0.90\n",
    "print(a+b)\n",
    "print(type(a+b))\n",
    "print(a-b)\n",
    "print(a**b)\n",
    "print(a//b) #floor division\n",
    "print(a%b) #modulus\n",
    "print(a*b) #multiplication\n",
    "print(a/b) #division\n",
    "print(a+b) #addition "
   ]
  }
 ],
 "metadata": {
  "kernelspec": {
   "display_name": "Python 3",
   "language": "python",
   "name": "python3"
  },
  "language_info": {
   "codemirror_mode": {
    "name": "ipython",
    "version": 3
   },
   "file_extension": ".py",
   "mimetype": "text/x-python",
   "name": "python",
   "nbconvert_exporter": "python",
   "pygments_lexer": "ipython3",
   "version": "3.11.9"
  }
 },
 "nbformat": 4,
 "nbformat_minor": 2
}
